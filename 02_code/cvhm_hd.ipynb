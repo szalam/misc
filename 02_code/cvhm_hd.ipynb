{
 "cells": [
  {
   "cell_type": "code",
   "execution_count": 1,
   "id": "6fdc6fa9",
   "metadata": {},
   "outputs": [],
   "source": [
    "# Imports\n",
    "import numpy as np\n",
    "import matplotlib.pyplot as plt\n",
    "import pandas as pd\n",
    "import geopandas as gp\n",
    "import matplotlib.pyplot as plt\n",
    "import cartopy\n",
    "import rasterio\n",
    "import rioxarray\n",
    "import sys\n",
    "import os\n",
    "\n",
    "from matplotlib.patches import Polygon\n",
    "from matplotlib.lines import Line2D\n",
    "import matplotlib.gridspec as gridspec\n",
    "\n",
    "%matplotlib inline\n",
    "np.set_printoptions(threshold=sys.maxsize) #print full array when required\n",
    "\n",
    "idir   = 'D:/git_uploads/cvhm_pr/04_results/'\n",
    "idir_c = 'C:/sarfaraz/Project_GW_attribution/2_GW_attribution_work/8_CVHM/03_codes/'\n",
    "idir_d = 'D:/git_uploads/cvhm_pr/02_data/' \n",
    "idir_s = 'D:/git_uploads/cvhm_pr/03_shape/'\n",
    "idir_o = 'D:/git_uploads/cvhm_pr/04_results/'"
   ]
  },
  {
   "cell_type": "code",
   "execution_count": 4,
   "id": "73f0cfa5",
   "metadata": {},
   "outputs": [],
   "source": [
    "#read data\n",
    "tmp_file = idir + 'head_CV_tim_162_lyr_10.csv'\n",
    "f = pd.read_csv(tmp_file)\n",
    "f.head(2)"
   ]
  },
  {
   "cell_type": "code",
   "execution_count": 3,
   "id": "ebb43061",
   "metadata": {},
   "outputs": [
    {
     "data": {
      "text/plain": [
       "'C:\\\\sarfaraz\\\\Project_GW_attribution\\\\2_GW_attribution_work\\\\8_CVHM\\\\03_codes'"
      ]
     },
     "execution_count": 3,
     "metadata": {},
     "output_type": "execute_result"
    }
   ],
   "source": [
    "#plot CV head data\n",
    "fig, ax = plt.subplots(figsize=(10, 16))\n",
    "plt.scatter(f['x_cord'], f['y_cord'],c = f['Val'], alpha=0.98,s=5)\n",
    "plt.colorbar()\n",
    "plt.show()"
   ]
  },
  {
   "cell_type": "code",
   "execution_count": null,
   "id": "e0a8ec1b",
   "metadata": {},
   "outputs": [],
   "source": [
    "#plot kaweah\n",
    "tmp_file = idir + 'head_CV_tim_162_lyr_10.csv'\n",
    "f = pd.read_csv(tmp_file)\n",
    "f.head(2)\n",
    "\n",
    "fig, ax = plt.subplots(figsize=(8, 6))\n",
    "plt.scatter(f['x_cord'], f['y_cord'],c = f['Val'], alpha=0.98,s=76, marker = \",\", edgecolor = 'none')\n",
    "plt.colorbar()\n",
    "plt.show()"
   ]
  }
 ],
 "metadata": {
  "kernelspec": {
   "display_name": "Python 3",
   "language": "python",
   "name": "python3"
  },
  "language_info": {
   "codemirror_mode": {
    "name": "ipython",
    "version": 3
   },
   "file_extension": ".py",
   "mimetype": "text/x-python",
   "name": "python",
   "nbconvert_exporter": "python",
   "pygments_lexer": "ipython3",
   "version": "3.7.12"
  }
 },
 "nbformat": 4,
 "nbformat_minor": 5
}
